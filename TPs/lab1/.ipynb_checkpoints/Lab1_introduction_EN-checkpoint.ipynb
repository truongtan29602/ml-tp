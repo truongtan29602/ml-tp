{
 "cells": [
  {
   "cell_type": "markdown",
   "metadata": {},
   "source": [
    "# Lab 1:  Data handling and preprocessing\n",
    "\n",
    "The majority of data that we encounter are organised in tables. A very common way of storing a table is a **dataframe**. And the standard package of python for dataframes is called **pandas**.\n",
    "\n",
    "In pandas, there are two main data structures. The **DataFrame** class (for 2D tables) and the **Series** class (for 1D vectors).\n",
    "\n",
    "## Loading and displaying data\n",
    "Let us start with an example of data from breast cancer patients.\n",
    "(A public dataset that was obtained from the University Medical Centre, Institute of Oncology, Ljubljana, Yugoslavia)\n",
    "\n",
    "The following command loads the CSV file in a pandas DataFrame and displays it."
   ]
  },
  {
   "cell_type": "code",
   "execution_count": null,
   "metadata": {},
   "outputs": [],
   "source": [
    "import pandas as pd\n",
    "\n",
    "bc = pd.read_csv(\"breast-cancer/breast-cancer.csv\")\n",
    "bc"
   ]
  },
  {
   "cell_type": "markdown",
   "metadata": {},
   "source": [
    "Each line of the table represents the data of a patient.\n",
    "The columns contain the different attributes (variables/features).\n",
    "Note that the lines and the columns have labels (marked in bold face). \n",
    "The labels of the lines (here: 0..285) are called **index**.\n",
    "\n",
    "Each column contains data of the same type, but different columns can have different types. \n",
    "For example, `deg-malig` is a **numerical** (or quantitative) variable and `menopause` is a **categorical** (or qualitative) variable.\n",
    "\n",
    "Here, we are dealing with a (binary) classification problem. The class to predict is stored in the first column.\n",
    "The two classes are `no-recurrence-event` and `recurrence-events`.\n",
    "\n",
    "\n",
    "### Question 1.1\n",
    "What is the type of each column/attribute?\n",
    "\n",
    "### Question 1.2\n",
    "How to represent the categorical variables in numerical form?\n"
   ]
  },
  {
   "cell_type": "markdown",
   "metadata": {},
   "source": [
    "## Slicing and filtering\n",
    "\n",
    "We will load another dataset that contains the frequency of first names given to babys born between 1880 and 2012 in the USA."
   ]
  },
  {
   "cell_type": "code",
   "execution_count": null,
   "metadata": {},
   "outputs": [],
   "source": [
    "bn = pd.read_csv(\"babynames.csv\")\n",
    "bn"
   ]
  },
  {
   "cell_type": "markdown",
   "metadata": {},
   "source": [
    "A slice is a DataFrame that contains a selection of lines or columns of the original DataFrame. \n",
    "We can select by label with **loc** or by index **iloc**.\n",
    "Here the line labels are numbers but it could as well be names (as for the columns).\n",
    "\n",
    "Syntax: \n",
    "```\n",
    "dataframe.loc[row_label, column_label] ou\n",
    "dataframe.loc[row_label] ou \n",
    "dataframe[row_label] ou alors\n",
    "dataframe.row_label\n",
    "\n",
    "dataframe.iloc[row, column] ou\n",
    "dataframe.iloc[row]\n",
    "```\n",
    "### Question 2.1\n",
    "What do the following commands?"
   ]
  },
  {
   "cell_type": "code",
   "execution_count": null,
   "metadata": {},
   "outputs": [],
   "source": [
    "bn.loc[3, \"name\"]"
   ]
  },
  {
   "cell_type": "code",
   "execution_count": null,
   "metadata": {},
   "outputs": [],
   "source": [
    "bn.loc[3, [\"name\", \"count\"]]"
   ]
  },
  {
   "cell_type": "code",
   "execution_count": null,
   "metadata": {},
   "outputs": [],
   "source": [
    "bn.loc[0:10, \"name\":\"prop\"]"
   ]
  },
  {
   "cell_type": "code",
   "execution_count": null,
   "metadata": {},
   "outputs": [],
   "source": [
    "bn.loc[0:3, [\"name\"]]"
   ]
  },
  {
   "cell_type": "code",
   "execution_count": null,
   "metadata": {},
   "outputs": [],
   "source": [
    "bn.loc[:,\"name\"]"
   ]
  },
  {
   "cell_type": "code",
   "execution_count": null,
   "metadata": {},
   "outputs": [],
   "source": [
    "# Shorter alternative\n",
    "bn[\"name\"]"
   ]
  },
  {
   "cell_type": "code",
   "execution_count": null,
   "metadata": {},
   "outputs": [],
   "source": [
    "# Or\n",
    "bn.name"
   ]
  },
  {
   "cell_type": "code",
   "execution_count": null,
   "metadata": {},
   "outputs": [],
   "source": [
    "bn.loc[14375]\n",
    "# or bn.iloc[14375]"
   ]
  },
  {
   "cell_type": "code",
   "execution_count": null,
   "metadata": {},
   "outputs": [],
   "source": [
    "bn.iloc[2,3]"
   ]
  },
  {
   "cell_type": "code",
   "execution_count": null,
   "metadata": {},
   "outputs": [],
   "source": [
    "bn.iloc[:, 2:4]"
   ]
  },
  {
   "cell_type": "code",
   "execution_count": null,
   "metadata": {},
   "outputs": [],
   "source": [
    "bn.iloc[-5:]"
   ]
  },
  {
   "cell_type": "markdown",
   "metadata": {},
   "source": [
    "Very often, we want to filter a subset of the data (lines) according to a certain criterion.\n",
    "For example, the most popular first names in 2012."
   ]
  },
  {
   "cell_type": "code",
   "execution_count": null,
   "metadata": {},
   "outputs": [],
   "source": [
    "bn[\"year\"]"
   ]
  },
  {
   "cell_type": "code",
   "execution_count": null,
   "metadata": {},
   "outputs": [],
   "source": [
    "# Alternative\n",
    "bn.year"
   ]
  },
  {
   "cell_type": "code",
   "execution_count": null,
   "metadata": {},
   "outputs": [],
   "source": [
    "bn[\"year\"]==2012"
   ]
  },
  {
   "cell_type": "markdown",
   "metadata": {},
   "source": [
    "We can index a DataFrame by giving this `Series`of booleans as an argument to `loc`."
   ]
  },
  {
   "cell_type": "code",
   "execution_count": null,
   "metadata": {},
   "outputs": [],
   "source": [
    "bn.loc[bn[\"year\"]==2012, :]"
   ]
  },
  {
   "cell_type": "code",
   "execution_count": null,
   "metadata": {},
   "outputs": [],
   "source": [
    "# Shortcut\n",
    "bn[bn[\"year\"]==2012]"
   ]
  },
  {
   "cell_type": "markdown",
   "metadata": {},
   "source": [
    "### Question 2.2\n",
    "Sort the result according to the \"count\" column in descending order"
   ]
  },
  {
   "cell_type": "markdown",
   "metadata": {},
   "source": [
    "### Question 2.3\n",
    "Add another criterion (with '&') saying that we only want female names. Sort the results according to \"count\" in descending order and display only the first 10 lines."
   ]
  },
  {
   "cell_type": "markdown",
   "metadata": {},
   "source": [
    "### Question 2.4\n",
    "Display the frequency of the first name Sophia over the years."
   ]
  },
  {
   "cell_type": "markdown",
   "metadata": {},
   "source": [
    "### Question 2.5\n",
    "Display all the first names that have been given more than 80000 times in a year."
   ]
  },
  {
   "cell_type": "markdown",
   "metadata": {},
   "source": [
    "### Question 2.6\n",
    "Same question but display the first names without duplicates (by using the method: `unique()`).\n"
   ]
  },
  {
   "cell_type": "markdown",
   "metadata": {},
   "source": [
    "### Question 2.7\n",
    "Display all female first names that are very rare (proportion < 0.01%)."
   ]
  },
  {
   "cell_type": "markdown",
   "metadata": {},
   "source": [
    "### Question 2.8\n",
    "Analyse the evolution of the popularity of the first name \"Luna\" over the years."
   ]
  },
  {
   "cell_type": "markdown",
   "metadata": {},
   "source": [
    "## Aggregation\n",
    "\n",
    "As we can do with SQL and databases, we can aggregate lines and apply aggregation functions such as min, max, count, sum...\n",
    "\n",
    "For example, to compute the sum of all births:"
   ]
  },
  {
   "cell_type": "code",
   "execution_count": null,
   "metadata": {},
   "outputs": [],
   "source": [
    "bn[\"count\"].sum()"
   ]
  },
  {
   "cell_type": "markdown",
   "metadata": {},
   "source": [
    "Grouped by year:"
   ]
  },
  {
   "cell_type": "code",
   "execution_count": null,
   "metadata": {},
   "outputs": [],
   "source": [
    "births_per_year = bn.groupby(\"year\")[\"count\"].sum()\n",
    "births_per_year"
   ]
  },
  {
   "cell_type": "markdown",
   "metadata": {},
   "source": [
    "The years are now the index of the DataFrame. \n",
    "If we want to reinitialise the index, we can do the following command:"
   ]
  },
  {
   "cell_type": "code",
   "execution_count": null,
   "metadata": {},
   "outputs": [],
   "source": [
    "bpy = births_per_year.reset_index()\n",
    "bpy"
   ]
  },
  {
   "cell_type": "code",
   "execution_count": null,
   "metadata": {},
   "outputs": [],
   "source": [
    "# Plot\n",
    "plt.plot(bpy[\"year\"], bpy[\"count\"])"
   ]
  },
  {
   "cell_type": "markdown",
   "metadata": {},
   "source": [
    "We can also group by several attributes by giving a list as parameter to `groupby()`."
   ]
  },
  {
   "cell_type": "code",
   "execution_count": null,
   "metadata": {},
   "outputs": [],
   "source": [
    "births_per_year_and_sex = bn.groupby([\"year\", \"sex\"])[\"count\"].sum()\n",
    "births_per_year_and_sex"
   ]
  },
  {
   "cell_type": "code",
   "execution_count": null,
   "metadata": {},
   "outputs": [],
   "source": [
    "# Converted to DataFrame\n",
    "births_per_year_and_sex.to_frame()"
   ]
  },
  {
   "cell_type": "code",
   "execution_count": null,
   "metadata": {},
   "outputs": [],
   "source": [
    "# With reinitialised index \n",
    "bpys = births_per_year_and_sex.reset_index()\n",
    "bpys"
   ]
  },
  {
   "cell_type": "markdown",
   "metadata": {},
   "source": [
    "It can be useful to \"pivot\" the table and put each sex in a separate column."
   ]
  },
  {
   "cell_type": "code",
   "execution_count": null,
   "metadata": {},
   "outputs": [],
   "source": [
    "pivot = pd.pivot_table(bpys, columns=\"sex\", values=\"count\", index=\"year\")\n",
    "pivot"
   ]
  },
  {
   "cell_type": "markdown",
   "metadata": {},
   "source": [
    "### Question 2.9\n",
    "Study (visually) during which period and for which sex there have been more births."
   ]
  },
  {
   "cell_type": "markdown",
   "metadata": {},
   "source": [
    "### Question 2.10\n",
    "Analyse for each first name the statistics (min, max, moyenne etc.) of the number of births over all years.\n",
    "(You can use the function `describe`.)"
   ]
  },
  {
   "cell_type": "markdown",
   "metadata": {},
   "source": [
    "## Other operations\n",
    "\n",
    "Convert the numerical data into a **numpy ndarray**."
   ]
  },
  {
   "cell_type": "code",
   "execution_count": null,
   "metadata": {},
   "outputs": [],
   "source": [
    "bn.prop.to_numpy()"
   ]
  },
  {
   "cell_type": "markdown",
   "metadata": {},
   "source": [
    "Add a new column (with the length of each first name)."
   ]
  },
  {
   "cell_type": "code",
   "execution_count": null,
   "metadata": {},
   "outputs": [],
   "source": [
    "bn = bn.assign(nb_letters = bn[\"name\"].str.len())\n",
    "bn"
   ]
  },
  {
   "cell_type": "markdown",
   "metadata": {},
   "source": [
    "Transform a categorical attribute into a numerical one (factorize)."
   ]
  },
  {
   "cell_type": "code",
   "execution_count": null,
   "metadata": {},
   "outputs": [],
   "source": [
    "bn.sex.factorize()\n"
   ]
  },
  {
   "cell_type": "code",
   "execution_count": null,
   "metadata": {},
   "outputs": [],
   "source": [
    "bn.sex.factorize()[0]"
   ]
  },
  {
   "cell_type": "code",
   "execution_count": null,
   "metadata": {},
   "outputs": [],
   "source": [
    "bn.sex = bn.sex.factorize()[0]\n",
    "bn"
   ]
  },
  {
   "cell_type": "markdown",
   "metadata": {},
   "source": [
    "Remove (drop) a column."
   ]
  },
  {
   "cell_type": "code",
   "execution_count": null,
   "metadata": {},
   "outputs": [],
   "source": [
    "bn = bn.drop(\"nb_letters\", axis=1)\n",
    "bn"
   ]
  },
  {
   "cell_type": "markdown",
   "metadata": {},
   "source": [
    "We can apply a function to each element of a column with **apply()**.\n",
    "\n",
    "Example: length of first names"
   ]
  },
  {
   "cell_type": "code",
   "execution_count": null,
   "metadata": {},
   "outputs": [],
   "source": [
    "bn[\"name\"].apply(len)"
   ]
  },
  {
   "cell_type": "markdown",
   "metadata": {},
   "source": [
    "Other example: extract the first letter of each first name."
   ]
  },
  {
   "cell_type": "code",
   "execution_count": null,
   "metadata": {},
   "outputs": [],
   "source": [
    "def first_letter(string):\n",
    "    return string[0]\n",
    "\n",
    "bn[\"name\"].apply(first_letter)"
   ]
  },
  {
   "cell_type": "markdown",
   "metadata": {},
   "source": [
    "### Question 2.11\n",
    "Add the result of this operation as a new column in our DataFrame and analyse the evolution of the frequence of first names that start with the letter \"L\"."
   ]
  },
  {
   "cell_type": "markdown",
   "metadata": {},
   "source": [
    "## Processing and cleaning of $CO_2$ measurement data\n",
    "\n",
    "In reality, you will rarely have such \"clean\" data and in a format that is suitable for direct analysis with python and pandas or numpy.\n",
    "\n",
    "We will now work on another dataset that contains $CO_2$ concentration measurements in the air.\n",
    "They come from the \"Mauna Loa\" observatory (Hawai) of the \"National Oceanic and Atmospheric Administration\" (NOAA).\n",
    "\n",
    "### Question 3.1\n",
    "Open the file \"co2_mm_mlo2.txt\" with a text editor. \n",
    "And then load the file (or the modified file) into a pandas DataFrame."
   ]
  },
  {
   "cell_type": "markdown",
   "metadata": {},
   "source": [
    "### Question 3.2\n",
    "Display the evolution of the monthly average of $CO_2$ measures over time. What do you observe?"
   ]
  },
  {
   "cell_type": "markdown",
   "metadata": {},
   "source": [
    "### Question 3.3\n",
    "Verify that there are all data (12 per year) and that they are consistent."
   ]
  },
  {
   "cell_type": "markdown",
   "metadata": {},
   "source": [
    "---\n",
    "If there are missing data they can have an important negative impact on our analysis.\n",
    "They can distort our results and, in the worst case, change our conclusions and our decisions.\n",
    "Therefore, it is important to cope with them appropriately.\n",
    "\n",
    "Once we have identified the missing or erroneous values, there are several ways to proceed:\n",
    "1. we remove these lines from the table\n",
    "2. we replace them with \"NaN\" (Not a Number, \"pandas.NA\") or a \"neutral\" value that does not have too much impact on the analysis (\"0\" or the mean or we repeat the value before/after) \n",
    "3. we do an interpolation between the neighbouring data (for example, before and after). \n",
    "\n",
    "![](addressing_missing_values.png)\n",
    "\n",
    "These methods are supposed to decrease the error of the model but, in general, each of them brings its own imprecision or biais depending on the nature of the data.\n"
   ]
  },
  {
   "cell_type": "markdown",
   "metadata": {},
   "source": [
    "### Question 3.3\n",
    "Create three copies from our DataFrame (mlo) with the three methods described above.\n",
    "\n",
    "Note: you can create a copy of a DataFrame with the `copy()` method (example: `df2 = df.copy()`. \n",
    "For interpolation, use the function `DataFrame. interpolate()`."
   ]
  },
  {
   "cell_type": "markdown",
   "metadata": {},
   "source": [
    "Another way for time series to obtain a continuous sequence (i.e. without holes) is to aggregate (average) the values over longer periods at the cost of a coarser granularity.\n",
    "The underlying hypothesis is that there is at least one datum per period.\n",
    "\n",
    "### Question 3.4\n",
    "In the $CO_2$ example data, \"remove\" the missing data by aggregating per year.\n",
    "Note: this removes also the seasonal variations (which may be desirable or not). \n",
    "Plot again the $CO_2$ concentration curve over time.\n"
   ]
  },
  {
   "cell_type": "markdown",
   "metadata": {},
   "source": [
    "## Bonus\n",
    "Construct a model from the observations until 2010 and predict the CO2 values after 2010. Display prediction and real observations in the same plot and compute a metric that measures the quality of this prediction."
   ]
  },
  {
   "cell_type": "code",
   "execution_count": null,
   "metadata": {},
   "outputs": [],
   "source": []
  }
 ],
 "metadata": {
  "kernelspec": {
   "display_name": "Python 3 (ipykernel)",
   "language": "python",
   "name": "python3"
  },
  "language_info": {
   "codemirror_mode": {
    "name": "ipython",
    "version": 3
   },
   "file_extension": ".py",
   "mimetype": "text/x-python",
   "name": "python",
   "nbconvert_exporter": "python",
   "pygments_lexer": "ipython3",
   "version": "3.10.12"
  }
 },
 "nbformat": 4,
 "nbformat_minor": 4
}
